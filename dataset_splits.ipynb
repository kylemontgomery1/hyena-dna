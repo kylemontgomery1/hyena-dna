{
 "cells": [
  {
   "cell_type": "code",
   "execution_count": 1,
   "id": "819c8479",
   "metadata": {},
   "outputs": [
    {
     "name": "stderr",
     "output_type": "stream",
     "text": [
      "/opt/conda/lib/python3.8/site-packages/tqdm/auto.py:22: TqdmWarning: IProgress not found. Please update jupyter and ipywidgets. See https://ipywidgets.readthedocs.io/en/stable/user_install.html\n",
      "  from .autonotebook import tqdm as notebook_tqdm\n"
     ]
    }
   ],
   "source": [
    "from pathlib import Path\n",
    "from pyfaidx import Fasta\n",
    "import pandas as pd\n",
    "import torch\n",
    "from random import randrange, random\n",
    "import numpy as np\n",
    "import os\n",
    "from transformers import AutoTokenizer\n",
    "from tqdm import tqdm\n",
    "import matplotlib.pyplot as plt"
   ]
  },
  {
   "cell_type": "code",
   "execution_count": 2,
   "id": "2af9d75e",
   "metadata": {},
   "outputs": [],
   "source": [
    "fasta_file = Path(\"/scratch/kyle/hyena-dna/data/hg38/hg38.ml.fa\")\n",
    "seqs = Fasta(str(fasta_file))"
   ]
  },
  {
   "cell_type": "code",
   "execution_count": 3,
   "id": "3e19a8a6",
   "metadata": {},
   "outputs": [
    {
     "name": "stdout",
     "output_type": "stream",
     "text": [
      "chr1 248956422\n",
      "chr10 133797422\n",
      "chr11 135086622\n",
      "chr12 133275309\n",
      "chr13 114364328\n",
      "chr14 107043718\n",
      "chr15 101991189\n",
      "chr16 90338345\n",
      "chr17 83257441\n",
      "chr18 80373285\n",
      "chr19 58617616\n",
      "chr2 242193529\n",
      "chr20 64444167\n",
      "chr21 46709983\n",
      "chr22 50818468\n",
      "chr3 198295559\n",
      "chr4 190214555\n",
      "chr5 181538259\n",
      "chr6 170805979\n",
      "chr7 159345973\n",
      "chr8 145138636\n",
      "chr9 138394717\n",
      "chrX 156040895\n",
      "total_count=3031042417\n"
     ]
    }
   ],
   "source": [
    "total_count = 0\n",
    "for chr_name in seqs.keys():\n",
    "    total_count += len(seqs[chr_name])\n",
    "    print(chr_name, len(seqs[chr_name]))\n",
    "print(f\"{total_count=}\")"
   ]
  },
  {
   "cell_type": "code",
   "execution_count": 4,
   "id": "54610895",
   "metadata": {},
   "outputs": [
    {
     "name": "stderr",
     "output_type": "stream",
     "text": [
      "100%|███████████████████████████████████████████| 23/23 [05:12<00:00, 13.59s/it]\n"
     ]
    },
    {
     "data": {
      "text/plain": [
       "{'N': 119818347,\n",
       " 'T': 861982404,\n",
       " 'A': 859262677,\n",
       " 'C': 593752927,\n",
       " 'G': 596226062}"
      ]
     },
     "execution_count": 4,
     "metadata": {},
     "output_type": "execute_result"
    }
   ],
   "source": [
    "char_frequencies = {}\n",
    "for chr_name in tqdm(seqs.keys()):\n",
    "    seq = str(seqs[chr_name][:])\n",
    "    for char in seq:\n",
    "        char_frequencies[char] = char_frequencies.get(char, 0) + 1\n",
    "char_frequencies"
   ]
  },
  {
   "cell_type": "code",
   "execution_count": 5,
   "id": "4e72b559",
   "metadata": {},
   "outputs": [
    {
     "data": {
      "image/png": "[encoded data removed]",
      "text/plain": [
       "<Figure size 432x288 with 1 Axes>"
      ]
     },
     "metadata": {
      "needs_background": "light"
     },
     "output_type": "display_data"
    }
   ],
   "source": [
    "plt.bar(char_frequencies.keys(), char_frequencies.values())\n",
    "plt.ylabel(\"Count\")\n",
    "plt.show()"
   ]
  },
  {
   "cell_type": "code",
   "execution_count": 6,
   "id": "3d6a83e0",
   "metadata": {},
   "outputs": [],
   "source": [
    "tokenizer = AutoTokenizer.from_pretrained('AIRI-Institute/gena-lm-bert-base')"
   ]
  },
  {
   "cell_type": "code",
   "execution_count": 7,
   "id": "c64bfd24",
   "metadata": {},
   "outputs": [
    {
     "data": {
      "text/plain": [
       "PreTrainedTokenizerFast(name_or_path='AIRI-Institute/gena-lm-bert-base', vocab_size=32000, model_max_length=1000000000000000019884624838656, is_fast=True, padding_side='right', truncation_side='right', special_tokens={'unk_token': '[UNK]', 'sep_token': '[SEP]', 'pad_token': '[PAD]', 'cls_token': '[CLS]', 'mask_token': '[MASK]'}, clean_up_tokenization_spaces=True)"
      ]
     },
     "execution_count": 7,
     "metadata": {},
     "output_type": "execute_result"
    }
   ],
   "source": [
    "tokenizer"
   ]
  },
  {
   "cell_type": "code",
   "execution_count": 8,
   "id": "c8162c8d",
   "metadata": {},
   "outputs": [
    {
     "name": "stderr",
     "output_type": "stream",
     "text": [
      "  4%|█▊                                       | 1/23 [04:53<1:47:30, 293.22s/it]"
     ]
    },
    {
     "name": "stdout",
     "output_type": "stream",
     "text": [
      "chr_name='chr1' num_chunks=54 count_N=17\n"
     ]
    },
    {
     "name": "stderr",
     "output_type": "stream",
     "text": [
      "\r",
      "  9%|███▌                                     | 2/23 [07:32<1:14:58, 214.19s/it]"
     ]
    },
    {
     "name": "stdout",
     "output_type": "stream",
     "text": [
      "chr_name='chr10' num_chunks=21 count_N=0\n"
     ]
    },
    {
     "name": "stderr",
     "output_type": "stream",
     "text": [
      "\r",
      " 13%|█████▎                                   | 3/23 [10:20<1:04:22, 193.11s/it]"
     ]
    },
    {
     "name": "stdout",
     "output_type": "stream",
     "text": [
      "chr_name='chr11' num_chunks=22 count_N=0\n"
     ]
    },
    {
     "name": "stderr",
     "output_type": "stream",
     "text": [
      "\r",
      " 17%|███████▍                                   | 4/23 [13:09<58:07, 183.58s/it]"
     ]
    },
    {
     "name": "stdout",
     "output_type": "stream",
     "text": [
      "chr_name='chr12' num_chunks=21 count_N=0\n"
     ]
    },
    {
     "name": "stderr",
     "output_type": "stream",
     "text": [
      "\r",
      " 22%|█████████▎                                 | 5/23 [15:09<48:14, 160.83s/it]"
     ]
    },
    {
     "name": "stdout",
     "output_type": "stream",
     "text": [
      "chr_name='chr13' num_chunks=32 count_N=16\n"
     ]
    },
    {
     "name": "stderr",
     "output_type": "stream",
     "text": [
      "\r",
      " 26%|███████████▏                               | 6/23 [17:06<41:19, 145.84s/it]"
     ]
    },
    {
     "name": "stdout",
     "output_type": "stream",
     "text": [
      "chr_name='chr14' num_chunks=31 count_N=16\n"
     ]
    },
    {
     "name": "stderr",
     "output_type": "stream",
     "text": [
      "\r",
      " 30%|█████████████                              | 7/23 [19:04<36:29, 136.85s/it]"
     ]
    },
    {
     "name": "stdout",
     "output_type": "stream",
     "text": [
      "chr_name='chr15' num_chunks=31 count_N=17\n"
     ]
    },
    {
     "name": "stderr",
     "output_type": "stream",
     "text": [
      "\r",
      " 35%|██████████████▉                            | 8/23 [20:50<31:42, 126.83s/it]"
     ]
    },
    {
     "name": "stdout",
     "output_type": "stream",
     "text": [
      "chr_name='chr16' num_chunks=21 count_N=7\n"
     ]
    },
    {
     "name": "stderr",
     "output_type": "stream",
     "text": [
      "\r",
      " 39%|████████████████▊                          | 9/23 [22:33<27:53, 119.54s/it]"
     ]
    },
    {
     "name": "stdout",
     "output_type": "stream",
     "text": [
      "chr_name='chr17' num_chunks=13 count_N=0\n"
     ]
    },
    {
     "name": "stderr",
     "output_type": "stream",
     "text": [
      "\r",
      " 43%|██████████████████▎                       | 10/23 [24:12<24:31, 113.20s/it]"
     ]
    },
    {
     "name": "stdout",
     "output_type": "stream",
     "text": [
      "chr_name='chr18' num_chunks=13 count_N=0\n"
     ]
    },
    {
     "name": "stderr",
     "output_type": "stream",
     "text": [
      "\r",
      " 48%|████████████████████▌                      | 11/23 [25:22<19:57, 99.82s/it]"
     ]
    },
    {
     "name": "stdout",
     "output_type": "stream",
     "text": [
      "chr_name='chr19' num_chunks=9 count_N=0\n"
     ]
    },
    {
     "name": "stderr",
     "output_type": "stream",
     "text": [
      "\r",
      " 52%|█████████████████████▉                    | 12/23 [31:36<33:37, 183.38s/it]"
     ]
    },
    {
     "name": "stdout",
     "output_type": "stream",
     "text": [
      "chr_name='chr2' num_chunks=39 count_N=0\n"
     ]
    },
    {
     "name": "stderr",
     "output_type": "stream",
     "text": [
      "\r",
      " 57%|███████████████████████▋                  | 13/23 [32:51<25:05, 150.56s/it]"
     ]
    },
    {
     "name": "stdout",
     "output_type": "stream",
     "text": [
      "chr_name='chr20' num_chunks=11 count_N=0\n"
     ]
    },
    {
     "name": "stderr",
     "output_type": "stream",
     "text": [
      "\r",
      " 61%|█████████████████████████▌                | 14/23 [33:37<17:50, 118.91s/it]"
     ]
    },
    {
     "name": "stdout",
     "output_type": "stream",
     "text": [
      "chr_name='chr21' num_chunks=13 count_N=5\n"
     ]
    },
    {
     "name": "stderr",
     "output_type": "stream",
     "text": [
      "\r",
      " 65%|████████████████████████████               | 15/23 [34:22<12:54, 96.78s/it]"
     ]
    },
    {
     "name": "stdout",
     "output_type": "stream",
     "text": [
      "chr_name='chr22' num_chunks=18 count_N=10\n"
     ]
    },
    {
     "name": "stderr",
     "output_type": "stream",
     "text": [
      "\r",
      " 70%|█████████████████████████████▏            | 16/23 [38:42<16:59, 145.71s/it]"
     ]
    },
    {
     "name": "stdout",
     "output_type": "stream",
     "text": [
      "chr_name='chr3' num_chunks=31 count_N=0\n"
     ]
    },
    {
     "name": "stderr",
     "output_type": "stream",
     "text": [
      "\r",
      " 74%|███████████████████████████████           | 17/23 [42:56<17:50, 178.45s/it]"
     ]
    },
    {
     "name": "stdout",
     "output_type": "stream",
     "text": [
      "chr_name='chr4' num_chunks=30 count_N=0\n"
     ]
    },
    {
     "name": "stderr",
     "output_type": "stream",
     "text": [
      "\r",
      " 78%|████████████████████████████████▊         | 18/23 [47:10<16:45, 201.10s/it]"
     ]
    },
    {
     "name": "stdout",
     "output_type": "stream",
     "text": [
      "chr_name='chr5' num_chunks=28 count_N=0\n"
     ]
    },
    {
     "name": "stderr",
     "output_type": "stream",
     "text": [
      "\r",
      " 83%|██████████████████████████████████▋       | 19/23 [51:11<14:11, 212.96s/it]"
     ]
    },
    {
     "name": "stdout",
     "output_type": "stream",
     "text": [
      "chr_name='chr6' num_chunks=27 count_N=0\n"
     ]
    },
    {
     "name": "stderr",
     "output_type": "stream",
     "text": [
      "\r",
      " 87%|████████████████████████████████████▌     | 20/23 [55:02<10:55, 218.51s/it]"
     ]
    },
    {
     "name": "stdout",
     "output_type": "stream",
     "text": [
      "chr_name='chr7' num_chunks=25 count_N=0\n"
     ]
    },
    {
     "name": "stderr",
     "output_type": "stream",
     "text": [
      "\r",
      " 91%|██████████████████████████████████████▎   | 21/23 [58:26<07:08, 214.23s/it]"
     ]
    },
    {
     "name": "stdout",
     "output_type": "stream",
     "text": [
      "chr_name='chr8' num_chunks=23 count_N=0\n"
     ]
    },
    {
     "name": "stderr",
     "output_type": "stream",
     "text": [
      "\r",
      " 96%|██████████████████████████████████████▎ | 22/23 [1:00:59<03:15, 195.64s/it]"
     ]
    },
    {
     "name": "stdout",
     "output_type": "stream",
     "text": [
      "chr_name='chr9' num_chunks=36 count_N=14\n"
     ]
    },
    {
     "name": "stderr",
     "output_type": "stream",
     "text": [
      "100%|████████████████████████████████████████| 23/23 [1:04:05<00:00, 167.20s/it]"
     ]
    },
    {
     "name": "stdout",
     "output_type": "stream",
     "text": [
      "chr_name='chrX' num_chunks=25 count_N=0\n"
     ]
    },
    {
     "name": "stderr",
     "output_type": "stream",
     "text": [
      "\n"
     ]
    }
   ],
   "source": [
    "chunk_size = int(1e6)\n",
    "chunk_indicies = []\n",
    "for chr_name in tqdm(seqs.keys()):\n",
    "    count_N = 0\n",
    "    offset_mapping = tokenizer(str(seqs[chr_name][:]), add_special_tokens=False, return_offsets_mapping=True).offset_mapping\n",
    "    num_chunks = (len(offset_mapping) + chunk_size - 1) // chunk_size\n",
    "    for i in range(num_chunks):\n",
    "        start_idx = offset_mapping[i * chunk_size][0]\n",
    "        end_idx = offset_mapping[min((i+1) * chunk_size, len(offset_mapping)) - 1][1]\n",
    "        seq = str(seqs[chr_name][start_idx:end_idx])\n",
    "        if seq.count(\"N\") == len(seq):\n",
    "            count_N += 1\n",
    "        else:\n",
    "            chunk_indicies.append((chr_name, start_idx, end_idx))\n",
    "    print(f\"{chr_name=}\", f\"{num_chunks=}\", f\"{count_N=}\")"
   ]
  },
  {
   "cell_type": "code",
   "execution_count": 9,
   "id": "ef2af2bf",
   "metadata": {},
   "outputs": [
    {
     "data": {
      "text/plain": [
       "472"
      ]
     },
     "execution_count": 9,
     "metadata": {},
     "output_type": "execute_result"
    }
   ],
   "source": [
    "len(chunk_indicies)"
   ]
  },
  {
   "cell_type": "code",
   "execution_count": 10,
   "id": "30354b2a",
   "metadata": {},
   "outputs": [],
   "source": [
    "all_Ns_count = 0\n",
    "for chunk in chunk_indicies:\n",
    "    chr_name, start, end = chunk\n",
    "    seq = str(seqs[chr_name][start:end])\n",
    "    if seq.count(\"N\") == len(seq):\n",
    "        all_Ns_count += 1\n",
    "assert all_Ns_count == 0"
   ]
  },
  {
   "cell_type": "code",
   "execution_count": 11,
   "id": "e1da006f",
   "metadata": {},
   "outputs": [
    {
     "data": {
      "text/plain": [
       "{'chr1': 37,\n",
       " 'chr10': 21,\n",
       " 'chr11': 22,\n",
       " 'chr12': 21,\n",
       " 'chr13': 16,\n",
       " 'chr14': 15,\n",
       " 'chr15': 14,\n",
       " 'chr16': 14,\n",
       " 'chr17': 13,\n",
       " 'chr18': 13,\n",
       " 'chr19': 9,\n",
       " 'chr2': 39,\n",
       " 'chr20': 11,\n",
       " 'chr21': 8,\n",
       " 'chr22': 8,\n",
       " 'chr3': 31,\n",
       " 'chr4': 30,\n",
       " 'chr5': 28,\n",
       " 'chr6': 27,\n",
       " 'chr7': 25,\n",
       " 'chr8': 23,\n",
       " 'chr9': 22,\n",
       " 'chrX': 25}"
      ]
     },
     "execution_count": 11,
     "metadata": {},
     "output_type": "execute_result"
    }
   ],
   "source": [
    "count_per_chr = {}\n",
    "for chunk in chunk_indicies:\n",
    "    chr_name = chunk[0]\n",
    "    count_per_chr[chr_name] = count_per_chr.get(chr_name, 0) + 1\n",
    "count_per_chr = dict(sorted(count_per_chr.items()))\n",
    "count_per_chr"
   ]
  },
  {
   "cell_type": "code",
   "execution_count": 12,
   "id": "23b8b166",
   "metadata": {},
   "outputs": [
    {
     "data": {
      "image/png": "[encoded data removed]",
      "text/plain": [
       "<Figure size 432x288 with 1 Axes>"
      ]
     },
     "metadata": {
      "needs_background": "light"
     },
     "output_type": "display_data"
    }
   ],
   "source": [
    "plt.bar(count_per_chr.keys(), count_per_chr.values())\n",
    "plt.xticks(rotation=90)\n",
    "plt.ylabel(\"Count\")\n",
    "plt.show()"
   ]
  },
  {
   "cell_type": "code",
   "execution_count": 13,
   "id": "635e66d0",
   "metadata": {},
   "outputs": [],
   "source": [
    "import random\n",
    "random.seed(2222)\n",
    "random.shuffle(chunk_indicies)\n",
    "\n",
    "total_size = len(chunk_indicies)\n",
    "train_end = int(0.8 * total_size)\n",
    "val_end = train_end + int(0.1 * total_size)\n",
    "\n",
    "for i, chunk in enumerate(chunk_indicies):\n",
    "    if i < train_end:\n",
    "        split = \"train\"\n",
    "    elif i < val_end:\n",
    "        split = \"valid\"\n",
    "    else:\n",
    "        split = \"test\"\n",
    "    chunk_indicies[i] = (*chunk, split)"
   ]
  },
  {
   "cell_type": "code",
   "execution_count": 14,
   "id": "39b8abd4",
   "metadata": {},
   "outputs": [],
   "source": [
    "with open(\"/scratch/kyle/hyena-dna/data/hg38/sequences_1m.bed\", \"w\") as f:\n",
    "    for chunk in chunk_indicies:\n",
    "        chr_name, start, end, split = chunk\n",
    "        f.write(f\"{chr_name}\\t{start}\\t{end}\\t{split}\\n\")"
   ]
  },
  {
   "cell_type": "code",
   "execution_count": 16,
   "id": "4c2ac260",
   "metadata": {},
   "outputs": [],
   "source": [
    "for chunk in chunk_indicies:\n",
    "    chr_name, start, end, split = chunk\n",
    "    seq = str(seqs[chr_name][start:end])\n",
    "    assert seq.count(\"N\") != len(seq)"
   ]
  }
 ],
 "metadata": {
  "kernelspec": {
   "display_name": "Python 3 (ipykernel)",
   "language": "python",
   "name": "python3"
  },
  "language_info": {
   "codemirror_mode": {
    "name": "ipython",
    "version": 3
   },
   "file_extension": ".py",
   "mimetype": "text/x-python",
   "name": "python",
   "nbconvert_exporter": "python",
   "pygments_lexer": "ipython3",
   "version": "3.8.13"
  }
 },
 "nbformat": 4,
 "nbformat_minor": 5
}
