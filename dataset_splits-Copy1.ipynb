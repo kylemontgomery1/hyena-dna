{
 "cells": [
  {
   "cell_type": "code",
   "execution_count": 1,
   "id": "819c8479",
   "metadata": {},
   "outputs": [
    {
     "name": "stderr",
     "output_type": "stream",
     "text": [
      "/opt/conda/lib/python3.8/site-packages/tqdm/auto.py:22: TqdmWarning: IProgress not found. Please update jupyter and ipywidgets. See https://ipywidgets.readthedocs.io/en/stable/user_install.html\n",
      "  from .autonotebook import tqdm as notebook_tqdm\n"
     ]
    }
   ],
   "source": [
    "from pathlib import Path\n",
    "from pyfaidx import Fasta\n",
    "import pandas as pd\n",
    "import torch\n",
    "from random import randrange, random\n",
    "import numpy as np\n",
    "import os\n",
    "from transformers import AutoTokenizer\n",
    "from tqdm import tqdm\n",
    "import matplotlib.pyplot as plt"
   ]
  },
  {
   "cell_type": "code",
   "execution_count": 2,
   "id": "2af9d75e",
   "metadata": {},
   "outputs": [],
   "source": [
    "fasta_file = Path(\"/scratch/kyle/hyena-dna/data/hg38/hg38.ml.fa\")\n",
    "seqs = Fasta(str(fasta_file))"
   ]
  },
  {
   "cell_type": "code",
   "execution_count": 3,
   "id": "3e19a8a6",
   "metadata": {},
   "outputs": [
    {
     "name": "stdout",
     "output_type": "stream",
     "text": [
      "chr1 248956422\n",
      "chr10 133797422\n",
      "chr11 135086622\n",
      "chr12 133275309\n",
      "chr13 114364328\n",
      "chr14 107043718\n",
      "chr15 101991189\n",
      "chr16 90338345\n",
      "chr17 83257441\n",
      "chr18 80373285\n",
      "chr19 58617616\n",
      "chr2 242193529\n",
      "chr20 64444167\n",
      "chr21 46709983\n",
      "chr22 50818468\n",
      "chr3 198295559\n",
      "chr4 190214555\n",
      "chr5 181538259\n",
      "chr6 170805979\n",
      "chr7 159345973\n",
      "chr8 145138636\n",
      "chr9 138394717\n",
      "chrX 156040895\n",
      "total_count=3031042417\n"
     ]
    }
   ],
   "source": [
    "total_count = 0\n",
    "for chr_name in seqs.keys():\n",
    "    total_count += len(seqs[chr_name])\n",
    "    print(chr_name, len(seqs[chr_name]))\n",
    "print(f\"{total_count=}\")"
   ]
  },
  {
   "cell_type": "code",
   "execution_count": 4,
   "id": "54610895",
   "metadata": {},
   "outputs": [
    {
     "name": "stderr",
     "output_type": "stream",
     "text": [
      "100%|███████████████████████████████████████████| 23/23 [05:03<00:00, 13.21s/it]\n"
     ]
    },
    {
     "data": {
      "text/plain": [
       "{'N': 119818347,\n",
       " 'T': 861982404,\n",
       " 'A': 859262677,\n",
       " 'C': 593752927,\n",
       " 'G': 596226062}"
      ]
     },
     "execution_count": 4,
     "metadata": {},
     "output_type": "execute_result"
    }
   ],
   "source": [
    "char_frequencies = {}\n",
    "for chr_name in tqdm(seqs.keys()):\n",
    "    seq = str(seqs[chr_name][:])\n",
    "    for char in seq:\n",
    "        char_frequencies[char] = char_frequencies.get(char, 0) + 1\n",
    "char_frequencies"
   ]
  },
  {
   "cell_type": "code",
   "execution_count": 5,
   "id": "4e72b559",
   "metadata": {},
   "outputs": [
    {
     "data": {
      "image/png": "[encoded data removed]",
      "text/plain": [
       "<Figure size 432x288 with 1 Axes>"
      ]
     },
     "metadata": {
      "needs_background": "light"
     },
     "output_type": "display_data"
    }
   ],
   "source": [
    "plt.bar(char_frequencies.keys(), char_frequencies.values())\n",
    "plt.ylabel(\"Count\")\n",
    "plt.show()"
   ]
  },
  {
   "cell_type": "code",
   "execution_count": 6,
   "id": "3d6a83e0",
   "metadata": {},
   "outputs": [],
   "source": [
    "tokenizer = AutoTokenizer.from_pretrained('AIRI-Institute/gena-lm-bert-base')"
   ]
  },
  {
   "cell_type": "code",
   "execution_count": 7,
   "id": "c64bfd24",
   "metadata": {},
   "outputs": [
    {
     "data": {
      "text/plain": [
       "PreTrainedTokenizerFast(name_or_path='AIRI-Institute/gena-lm-bert-base', vocab_size=32000, model_max_length=1000000000000000019884624838656, is_fast=True, padding_side='right', truncation_side='right', special_tokens={'unk_token': '[UNK]', 'sep_token': '[SEP]', 'pad_token': '[PAD]', 'cls_token': '[CLS]', 'mask_token': '[MASK]'}, clean_up_tokenization_spaces=True)"
      ]
     },
     "execution_count": 7,
     "metadata": {},
     "output_type": "execute_result"
    }
   ],
   "source": [
    "tokenizer"
   ]
  },
  {
   "cell_type": "code",
   "execution_count": 8,
   "id": "c8162c8d",
   "metadata": {},
   "outputs": [
    {
     "name": "stderr",
     "output_type": "stream",
     "text": [
      "  4%|█▊                                       | 1/23 [05:56<2:10:42, 356.48s/it]"
     ]
    },
    {
     "name": "stdout",
     "output_type": "stream",
     "text": [
      "chr_name='chr1' num_chunks=536 count_N=179\n"
     ]
    },
    {
     "name": "stderr",
     "output_type": "stream",
     "text": [
      "\r",
      "  9%|███▌                                     | 2/23 [08:48<1:26:46, 247.92s/it]"
     ]
    },
    {
     "name": "stdout",
     "output_type": "stream",
     "text": [
      "chr_name='chr10' num_chunks=210 count_N=2\n"
     ]
    },
    {
     "name": "stderr",
     "output_type": "stream",
     "text": [
      "\r",
      " 13%|█████▎                                   | 3/23 [11:36<1:10:29, 211.47s/it]"
     ]
    },
    {
     "name": "stdout",
     "output_type": "stream",
     "text": [
      "chr_name='chr11' num_chunks=211 count_N=1\n"
     ]
    },
    {
     "name": "stderr",
     "output_type": "stream",
     "text": [
      "\r",
      " 17%|███████▏                                 | 4/23 [14:40<1:03:32, 200.68s/it]"
     ]
    },
    {
     "name": "stdout",
     "output_type": "stream",
     "text": [
      "chr_name='chr12' num_chunks=204 count_N=0\n"
     ]
    },
    {
     "name": "stderr",
     "output_type": "stream",
     "text": [
      "\r",
      " 22%|█████████▎                                 | 5/23 [17:01<53:44, 179.15s/it]"
     ]
    },
    {
     "name": "stdout",
     "output_type": "stream",
     "text": [
      "chr_name='chr13' num_chunks=315 count_N=161\n"
     ]
    },
    {
     "name": "stderr",
     "output_type": "stream",
     "text": [
      "\r",
      " 26%|███████████▏                               | 6/23 [19:13<46:14, 163.18s/it]"
     ]
    },
    {
     "name": "stdout",
     "output_type": "stream",
     "text": [
      "chr_name='chr14' num_chunks=303 count_N=163\n"
     ]
    },
    {
     "name": "stderr",
     "output_type": "stream",
     "text": [
      "\r",
      " 30%|█████████████                              | 7/23 [21:14<39:49, 149.36s/it]"
     ]
    },
    {
     "name": "stdout",
     "output_type": "stream",
     "text": [
      "chr_name='chr15' num_chunks=303 count_N=170\n"
     ]
    },
    {
     "name": "stderr",
     "output_type": "stream",
     "text": [
      "\r",
      " 35%|██████████████▉                            | 8/23 [22:57<33:38, 134.56s/it]"
     ]
    },
    {
     "name": "stdout",
     "output_type": "stream",
     "text": [
      "chr_name='chr16' num_chunks=210 count_N=81\n"
     ]
    },
    {
     "name": "stderr",
     "output_type": "stream",
     "text": [
      "\r",
      " 39%|████████████████▊                          | 9/23 [24:38<28:55, 123.96s/it]"
     ]
    },
    {
     "name": "stdout",
     "output_type": "stream",
     "text": [
      "chr_name='chr17' num_chunks=129 count_N=0\n"
     ]
    },
    {
     "name": "stderr",
     "output_type": "stream",
     "text": [
      "\r",
      " 43%|██████████████████▎                       | 10/23 [26:29<26:00, 120.03s/it]"
     ]
    },
    {
     "name": "stdout",
     "output_type": "stream",
     "text": [
      "chr_name='chr18' num_chunks=125 count_N=1\n"
     ]
    },
    {
     "name": "stderr",
     "output_type": "stream",
     "text": [
      "\r",
      " 48%|████████████████████                      | 11/23 [27:44<21:15, 106.27s/it]"
     ]
    },
    {
     "name": "stdout",
     "output_type": "stream",
     "text": [
      "chr_name='chr19' num_chunks=89 count_N=0\n"
     ]
    },
    {
     "name": "stderr",
     "output_type": "stream",
     "text": [
      "\r",
      " 52%|█████████████████████▉                    | 12/23 [34:39<36:43, 200.30s/it]"
     ]
    },
    {
     "name": "stdout",
     "output_type": "stream",
     "text": [
      "chr_name='chr2' num_chunks=385 count_N=11\n"
     ]
    },
    {
     "name": "stderr",
     "output_type": "stream",
     "text": [
      "\r",
      " 57%|███████████████████████▋                  | 13/23 [36:05<27:35, 165.55s/it]"
     ]
    },
    {
     "name": "stdout",
     "output_type": "stream",
     "text": [
      "chr_name='chr20' num_chunks=103 count_N=1\n"
     ]
    },
    {
     "name": "stderr",
     "output_type": "stream",
     "text": [
      "\r",
      " 61%|█████████████████████████▌                | 14/23 [37:12<20:23, 135.92s/it]"
     ]
    },
    {
     "name": "stdout",
     "output_type": "stream",
     "text": [
      "chr_name='chr21' num_chunks=128 count_N=51\n"
     ]
    },
    {
     "name": "stderr",
     "output_type": "stream",
     "text": [
      "\r",
      " 65%|███████████████████████████▍              | 15/23 [38:14<15:08, 113.59s/it]"
     ]
    },
    {
     "name": "stdout",
     "output_type": "stream",
     "text": [
      "chr_name='chr22' num_chunks=176 count_N=105\n"
     ]
    },
    {
     "name": "stderr",
     "output_type": "stream",
     "text": [
      "\r",
      " 70%|█████████████████████████████▏            | 16/23 [44:56<23:21, 200.27s/it]"
     ]
    },
    {
     "name": "stdout",
     "output_type": "stream",
     "text": [
      "chr_name='chr3' num_chunks=305 count_N=1\n"
     ]
    },
    {
     "name": "stderr",
     "output_type": "stream",
     "text": [
      "\r",
      " 74%|███████████████████████████████           | 17/23 [49:49<22:48, 228.15s/it]"
     ]
    },
    {
     "name": "stdout",
     "output_type": "stream",
     "text": [
      "chr_name='chr4' num_chunks=295 count_N=2\n"
     ]
    },
    {
     "name": "stderr",
     "output_type": "stream",
     "text": [
      "\r",
      " 78%|████████████████████████████████▊         | 18/23 [53:20<18:34, 222.98s/it]"
     ]
    },
    {
     "name": "stdout",
     "output_type": "stream",
     "text": [
      "chr_name='chr5' num_chunks=280 count_N=1\n"
     ]
    },
    {
     "name": "stderr",
     "output_type": "stream",
     "text": [
      "\r",
      " 83%|██████████████████████████████████▋       | 19/23 [56:36<14:19, 214.89s/it]"
     ]
    },
    {
     "name": "stdout",
     "output_type": "stream",
     "text": [
      "chr_name='chr6' num_chunks=267 count_N=3\n"
     ]
    },
    {
     "name": "stderr",
     "output_type": "stream",
     "text": [
      "\r",
      " 87%|████████████████████████████████████▌     | 20/23 [59:38<10:15, 205.13s/it]"
     ]
    },
    {
     "name": "stdout",
     "output_type": "stream",
     "text": [
      "chr_name='chr7' num_chunks=246 count_N=0\n"
     ]
    },
    {
     "name": "stderr",
     "output_type": "stream",
     "text": [
      "\r",
      " 91%|████████████████████████████████████▌   | 21/23 [1:02:23<06:25, 192.92s/it]"
     ]
    },
    {
     "name": "stdout",
     "output_type": "stream",
     "text": [
      "chr_name='chr8' num_chunks=223 count_N=1\n"
     ]
    },
    {
     "name": "stderr",
     "output_type": "stream",
     "text": [
      "\r",
      " 96%|██████████████████████████████████████▎ | 22/23 [1:04:51<02:59, 179.44s/it]"
     ]
    },
    {
     "name": "stdout",
     "output_type": "stream",
     "text": [
      "chr_name='chr9' num_chunks=352 count_N=152\n"
     ]
    },
    {
     "name": "stderr",
     "output_type": "stream",
     "text": [
      "100%|████████████████████████████████████████| 23/23 [1:08:23<00:00, 178.43s/it]"
     ]
    },
    {
     "name": "stdout",
     "output_type": "stream",
     "text": [
      "chr_name='chrX' num_chunks=246 count_N=2\n"
     ]
    },
    {
     "name": "stderr",
     "output_type": "stream",
     "text": [
      "\n"
     ]
    }
   ],
   "source": [
    "chunk_size = int(1e5)\n",
    "chunk_indicies = []\n",
    "for chr_name in tqdm(seqs.keys()):\n",
    "    count_N = 0\n",
    "    offset_mapping = tokenizer(str(seqs[chr_name][:]), add_special_tokens=False, return_offsets_mapping=True).offset_mapping\n",
    "    num_chunks = (len(offset_mapping) + chunk_size - 1) // chunk_size\n",
    "    for i in range(num_chunks):\n",
    "        start_idx = offset_mapping[i * chunk_size][0]\n",
    "        end_idx = offset_mapping[min((i+1) * chunk_size, len(offset_mapping)) - 1][1]\n",
    "        seq = str(seqs[chr_name][start_idx:end_idx])\n",
    "        if seq.count(\"N\") == len(seq):\n",
    "            count_N += 1\n",
    "        else:\n",
    "            chunk_indicies.append((chr_name, start_idx, end_idx))\n",
    "    print(f\"{chr_name=}\", f\"{num_chunks=}\", f\"{count_N=}\")"
   ]
  },
  {
   "cell_type": "code",
   "execution_count": 9,
   "id": "b99ff4f5",
   "metadata": {},
   "outputs": [
    {
     "data": {
      "text/plain": [
       "4553"
      ]
     },
     "execution_count": 9,
     "metadata": {},
     "output_type": "execute_result"
    }
   ],
   "source": [
    "len(chunk_indicies)"
   ]
  },
  {
   "cell_type": "code",
   "execution_count": 10,
   "id": "30354b2a",
   "metadata": {},
   "outputs": [],
   "source": [
    "all_Ns_count = 0\n",
    "for chunk in chunk_indicies:\n",
    "    chr_name, start, end = chunk\n",
    "    seq = str(seqs[chr_name][start:end])\n",
    "    if seq.count(\"N\") == len(seq):\n",
    "        all_Ns_count += 1\n",
    "assert all_Ns_count == 0"
   ]
  },
  {
   "cell_type": "code",
   "execution_count": 11,
   "id": "e1da006f",
   "metadata": {},
   "outputs": [
    {
     "data": {
      "text/plain": [
       "{'chr1': 357,\n",
       " 'chr10': 208,\n",
       " 'chr11': 210,\n",
       " 'chr12': 204,\n",
       " 'chr13': 154,\n",
       " 'chr14': 140,\n",
       " 'chr15': 133,\n",
       " 'chr16': 129,\n",
       " 'chr17': 129,\n",
       " 'chr18': 124,\n",
       " 'chr19': 89,\n",
       " 'chr2': 374,\n",
       " 'chr20': 102,\n",
       " 'chr21': 77,\n",
       " 'chr22': 71,\n",
       " 'chr3': 304,\n",
       " 'chr4': 293,\n",
       " 'chr5': 279,\n",
       " 'chr6': 264,\n",
       " 'chr7': 246,\n",
       " 'chr8': 222,\n",
       " 'chr9': 200,\n",
       " 'chrX': 244}"
      ]
     },
     "execution_count": 11,
     "metadata": {},
     "output_type": "execute_result"
    }
   ],
   "source": [
    "count_per_chr = {}\n",
    "for chunk in chunk_indicies:\n",
    "    chr_name = chunk[0]\n",
    "    count_per_chr[chr_name] = count_per_chr.get(chr_name, 0) + 1\n",
    "count_per_chr = dict(sorted(count_per_chr.items()))\n",
    "count_per_chr"
   ]
  },
  {
   "cell_type": "code",
   "execution_count": 12,
   "id": "23b8b166",
   "metadata": {},
   "outputs": [
    {
     "data": {
      "image/png": "[encoded data removed]",
      "text/plain": [
       "<Figure size 432x288 with 1 Axes>"
      ]
     },
     "metadata": {
      "needs_background": "light"
     },
     "output_type": "display_data"
    }
   ],
   "source": [
    "plt.bar(count_per_chr.keys(), count_per_chr.values())\n",
    "plt.xticks(rotation=90)\n",
    "plt.ylabel(\"Count\")\n",
    "plt.show()"
   ]
  },
  {
   "cell_type": "code",
   "execution_count": 13,
   "id": "635e66d0",
   "metadata": {},
   "outputs": [],
   "source": [
    "import random\n",
    "random.seed(2222)\n",
    "random.shuffle(chunk_indicies)\n",
    "\n",
    "total_size = len(chunk_indicies)\n",
    "train_end = int(0.8 * total_size)\n",
    "val_end = train_end + int(0.1 * total_size)\n",
    "\n",
    "for i, chunk in enumerate(chunk_indicies):\n",
    "    if i < train_end:\n",
    "        split = \"train\"\n",
    "    elif i < val_end:\n",
    "        split = \"valid\"\n",
    "    else:\n",
    "        split = \"test\"\n",
    "    chunk_indicies[i] = (*chunk, split)"
   ]
  },
  {
   "cell_type": "code",
   "execution_count": 14,
   "id": "39b8abd4",
   "metadata": {},
   "outputs": [],
   "source": [
    "with open(\"/scratch/kyle/hyena-dna/data/hg38/sequences_100k.bed\", \"w\") as f:\n",
    "    for chunk in chunk_indicies:\n",
    "        chr_name, start, end, split = chunk\n",
    "        f.write(f\"{chr_name}\\t{start}\\t{end}\\t{split}\\n\")"
   ]
  },
  {
   "cell_type": "code",
   "execution_count": 15,
   "id": "8cbebfc9",
   "metadata": {},
   "outputs": [],
   "source": [
    "for chunk in chunk_indicies:\n",
    "    chr_name, start, end, split = chunk\n",
    "    seq = str(seqs[chr_name][start:end])\n",
    "    assert seq.count(\"N\") != len(seq)"
   ]
  }
 ],
 "metadata": {
  "kernelspec": {
   "display_name": "Python 3 (ipykernel)",
   "language": "python",
   "name": "python3"
  },
  "language_info": {
   "codemirror_mode": {
    "name": "ipython",
    "version": 3
   },
   "file_extension": ".py",
   "mimetype": "text/x-python",
   "name": "python",
   "nbconvert_exporter": "python",
   "pygments_lexer": "ipython3",
   "version": "3.8.13"
  }
 },
 "nbformat": 4,
 "nbformat_minor": 5
}
