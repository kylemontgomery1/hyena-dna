{
 "cells": [
  {
   "cell_type": "code",
   "execution_count": 1,
   "id": "819c8479",
   "metadata": {},
   "outputs": [
    {
     "name": "stderr",
     "output_type": "stream",
     "text": [
      "/opt/conda/lib/python3.8/site-packages/tqdm/auto.py:22: TqdmWarning: IProgress not found. Please update jupyter and ipywidgets. See https://ipywidgets.readthedocs.io/en/stable/user_install.html\n",
      "  from .autonotebook import tqdm as notebook_tqdm\n"
     ]
    }
   ],
   "source": [
    "from pathlib import Path\n",
    "from pyfaidx import Fasta\n",
    "import pandas as pd\n",
    "import torch\n",
    "from random import randrange, random\n",
    "import numpy as np\n",
    "import os\n",
    "from transformers import AutoTokenizer\n",
    "from tqdm import tqdm\n",
    "import matplotlib.pyplot as plt"
   ]
  },
  {
   "cell_type": "code",
   "execution_count": 2,
   "id": "2af9d75e",
   "metadata": {},
   "outputs": [],
   "source": [
    "fasta_file = Path(\"/scratch/kyle/hyena-dna/data/hg38/hg38.ml.fa\")\n",
    "seqs = Fasta(str(fasta_file))"
   ]
  },
  {
   "cell_type": "code",
   "execution_count": 3,
   "id": "3e19a8a6",
   "metadata": {},
   "outputs": [
    {
     "name": "stdout",
     "output_type": "stream",
     "text": [
      "chr1 248956422\n",
      "chr10 133797422\n",
      "chr11 135086622\n",
      "chr12 133275309\n",
      "chr13 114364328\n",
      "chr14 107043718\n",
      "chr15 101991189\n",
      "chr16 90338345\n",
      "chr17 83257441\n",
      "chr18 80373285\n",
      "chr19 58617616\n",
      "chr2 242193529\n",
      "chr20 64444167\n",
      "chr21 46709983\n",
      "chr22 50818468\n",
      "chr3 198295559\n",
      "chr4 190214555\n",
      "chr5 181538259\n",
      "chr6 170805979\n",
      "chr7 159345973\n",
      "chr8 145138636\n",
      "chr9 138394717\n",
      "chrX 156040895\n",
      "total_count=3031042417\n"
     ]
    }
   ],
   "source": [
    "total_count = 0\n",
    "for chr_name in seqs.keys():\n",
    "    total_count += len(seqs[chr_name])\n",
    "    print(chr_name, len(seqs[chr_name]))\n",
    "print(f\"{total_count=}\")"
   ]
  },
  {
   "cell_type": "code",
   "execution_count": 4,
   "id": "54610895",
   "metadata": {},
   "outputs": [
    {
     "name": "stderr",
     "output_type": "stream",
     "text": [
      "100%|███████████████████████████████████████████| 23/23 [05:22<00:00, 14.04s/it]\n"
     ]
    },
    {
     "data": {
      "text/plain": [
       "{'N': 119818347,\n",
       " 'T': 861982404,\n",
       " 'A': 859262677,\n",
       " 'C': 593752927,\n",
       " 'G': 596226062}"
      ]
     },
     "execution_count": 4,
     "metadata": {},
     "output_type": "execute_result"
    }
   ],
   "source": [
    "char_frequencies = {}\n",
    "for chr_name in tqdm(seqs.keys()):\n",
    "    seq = str(seqs[chr_name][:])\n",
    "    for char in seq:\n",
    "        char_frequencies[char] = char_frequencies.get(char, 0) + 1\n",
    "char_frequencies"
   ]
  },
  {
   "cell_type": "code",
   "execution_count": 5,
   "id": "4e72b559",
   "metadata": {},
   "outputs": [
    {
     "data": {
      "image/png": "[encoded data removed]",
      "text/plain": [
       "<Figure size 432x288 with 1 Axes>"
      ]
     },
     "metadata": {
      "needs_background": "light"
     },
     "output_type": "display_data"
    }
   ],
   "source": [
    "plt.bar(char_frequencies.keys(), char_frequencies.values())\n",
    "plt.ylabel(\"Count\")\n",
    "plt.show()"
   ]
  },
  {
   "cell_type": "code",
   "execution_count": 6,
   "id": "3d6a83e0",
   "metadata": {},
   "outputs": [],
   "source": [
    "tokenizer = AutoTokenizer.from_pretrained('AIRI-Institute/gena-lm-bert-base')"
   ]
  },
  {
   "cell_type": "code",
   "execution_count": 7,
   "id": "c64bfd24",
   "metadata": {},
   "outputs": [
    {
     "data": {
      "text/plain": [
       "PreTrainedTokenizerFast(name_or_path='AIRI-Institute/gena-lm-bert-base', vocab_size=32000, model_max_length=1000000000000000019884624838656, is_fast=True, padding_side='right', truncation_side='right', special_tokens={'unk_token': '[UNK]', 'sep_token': '[SEP]', 'pad_token': '[PAD]', 'cls_token': '[CLS]', 'mask_token': '[MASK]'}, clean_up_tokenization_spaces=True)"
      ]
     },
     "execution_count": 7,
     "metadata": {},
     "output_type": "execute_result"
    }
   ],
   "source": [
    "tokenizer"
   ]
  },
  {
   "cell_type": "code",
   "execution_count": 8,
   "id": "c8162c8d",
   "metadata": {},
   "outputs": [
    {
     "name": "stderr",
     "output_type": "stream",
     "text": [
      "  4%|█▊                                       | 1/23 [05:08<1:53:03, 308.36s/it]"
     ]
    },
    {
     "name": "stdout",
     "output_type": "stream",
     "text": [
      "chr_name='chr1' num_chunks=108 count_N=35\n"
     ]
    },
    {
     "name": "stderr",
     "output_type": "stream",
     "text": [
      "\r",
      "  9%|███▌                                     | 2/23 [07:51<1:18:00, 222.89s/it]"
     ]
    },
    {
     "name": "stdout",
     "output_type": "stream",
     "text": [
      "chr_name='chr10' num_chunks=42 count_N=0\n"
     ]
    },
    {
     "name": "stderr",
     "output_type": "stream",
     "text": [
      "\r",
      " 13%|█████▎                                   | 3/23 [10:31<1:04:41, 194.06s/it]"
     ]
    },
    {
     "name": "stdout",
     "output_type": "stream",
     "text": [
      "chr_name='chr11' num_chunks=43 count_N=0\n"
     ]
    },
    {
     "name": "stderr",
     "output_type": "stream",
     "text": [
      "\r",
      " 17%|███████▍                                   | 4/23 [13:32<59:54, 189.20s/it]"
     ]
    },
    {
     "name": "stdout",
     "output_type": "stream",
     "text": [
      "chr_name='chr12' num_chunks=41 count_N=0\n"
     ]
    },
    {
     "name": "stderr",
     "output_type": "stream",
     "text": [
      "\r",
      " 22%|█████████▎                                 | 5/23 [15:53<51:31, 171.76s/it]"
     ]
    },
    {
     "name": "stdout",
     "output_type": "stream",
     "text": [
      "chr_name='chr13' num_chunks=63 count_N=32\n"
     ]
    },
    {
     "name": "stderr",
     "output_type": "stream",
     "text": [
      "\r",
      " 26%|███████████▏                               | 6/23 [18:08<45:08, 159.32s/it]"
     ]
    },
    {
     "name": "stdout",
     "output_type": "stream",
     "text": [
      "chr_name='chr14' num_chunks=61 count_N=32\n"
     ]
    },
    {
     "name": "stderr",
     "output_type": "stream",
     "text": [
      "\r",
      " 30%|█████████████                              | 7/23 [20:08<39:02, 146.43s/it]"
     ]
    },
    {
     "name": "stdout",
     "output_type": "stream",
     "text": [
      "chr_name='chr15' num_chunks=61 count_N=34\n"
     ]
    },
    {
     "name": "stderr",
     "output_type": "stream",
     "text": [
      "\r",
      " 35%|██████████████▉                            | 8/23 [21:57<33:36, 134.44s/it]"
     ]
    },
    {
     "name": "stdout",
     "output_type": "stream",
     "text": [
      "chr_name='chr16' num_chunks=42 count_N=15\n"
     ]
    },
    {
     "name": "stderr",
     "output_type": "stream",
     "text": [
      "\r",
      " 39%|████████████████▊                          | 9/23 [23:41<29:10, 125.02s/it]"
     ]
    },
    {
     "name": "stdout",
     "output_type": "stream",
     "text": [
      "chr_name='chr17' num_chunks=26 count_N=0\n"
     ]
    },
    {
     "name": "stderr",
     "output_type": "stream",
     "text": [
      "\r",
      " 43%|██████████████████▎                       | 10/23 [25:20<25:21, 117.01s/it]"
     ]
    },
    {
     "name": "stdout",
     "output_type": "stream",
     "text": [
      "chr_name='chr18' num_chunks=25 count_N=0\n"
     ]
    },
    {
     "name": "stderr",
     "output_type": "stream",
     "text": [
      "\r",
      " 48%|████████████████████                      | 11/23 [26:29<20:24, 102.04s/it]"
     ]
    },
    {
     "name": "stdout",
     "output_type": "stream",
     "text": [
      "chr_name='chr19' num_chunks=18 count_N=0\n"
     ]
    },
    {
     "name": "stderr",
     "output_type": "stream",
     "text": [
      "\r",
      " 52%|█████████████████████▉                    | 12/23 [31:26<29:37, 161.56s/it]"
     ]
    },
    {
     "name": "stdout",
     "output_type": "stream",
     "text": [
      "chr_name='chr2' num_chunks=77 count_N=1\n"
     ]
    },
    {
     "name": "stderr",
     "output_type": "stream",
     "text": [
      "\r",
      " 57%|███████████████████████▋                  | 13/23 [32:38<22:24, 134.45s/it]"
     ]
    },
    {
     "name": "stdout",
     "output_type": "stream",
     "text": [
      "chr_name='chr20' num_chunks=21 count_N=0\n"
     ]
    },
    {
     "name": "stderr",
     "output_type": "stream",
     "text": [
      "\r",
      " 61%|█████████████████████████▌                | 14/23 [33:25<16:10, 107.85s/it]"
     ]
    },
    {
     "name": "stdout",
     "output_type": "stream",
     "text": [
      "chr_name='chr21' num_chunks=26 count_N=10\n"
     ]
    },
    {
     "name": "stderr",
     "output_type": "stream",
     "text": [
      "\r",
      " 65%|████████████████████████████               | 15/23 [34:13<11:58, 89.80s/it]"
     ]
    },
    {
     "name": "stdout",
     "output_type": "stream",
     "text": [
      "chr_name='chr22' num_chunks=36 count_N=21\n"
     ]
    },
    {
     "name": "stderr",
     "output_type": "stream",
     "text": [
      "\r",
      " 70%|█████████████████████████████▏            | 16/23 [38:06<15:30, 132.92s/it]"
     ]
    },
    {
     "name": "stdout",
     "output_type": "stream",
     "text": [
      "chr_name='chr3' num_chunks=61 count_N=0\n"
     ]
    },
    {
     "name": "stderr",
     "output_type": "stream",
     "text": [
      "\r",
      " 74%|███████████████████████████████           | 17/23 [41:47<15:55, 159.33s/it]"
     ]
    },
    {
     "name": "stdout",
     "output_type": "stream",
     "text": [
      "chr_name='chr4' num_chunks=59 count_N=0\n"
     ]
    },
    {
     "name": "stderr",
     "output_type": "stream",
     "text": [
      "\r",
      " 78%|████████████████████████████████▊         | 18/23 [45:20<14:38, 175.63s/it]"
     ]
    },
    {
     "name": "stdout",
     "output_type": "stream",
     "text": [
      "chr_name='chr5' num_chunks=56 count_N=0\n"
     ]
    },
    {
     "name": "stderr",
     "output_type": "stream",
     "text": [
      "\r",
      " 83%|██████████████████████████████████▋       | 19/23 [48:40<12:11, 182.90s/it]"
     ]
    },
    {
     "name": "stdout",
     "output_type": "stream",
     "text": [
      "chr_name='chr6' num_chunks=54 count_N=0\n"
     ]
    },
    {
     "name": "stderr",
     "output_type": "stream",
     "text": [
      "\r",
      " 87%|████████████████████████████████████▌     | 20/23 [51:47<09:12, 184.15s/it]"
     ]
    },
    {
     "name": "stdout",
     "output_type": "stream",
     "text": [
      "chr_name='chr7' num_chunks=50 count_N=0\n"
     ]
    },
    {
     "name": "stderr",
     "output_type": "stream",
     "text": [
      "\r",
      " 91%|██████████████████████████████████████▎   | 21/23 [54:37<06:00, 180.03s/it]"
     ]
    },
    {
     "name": "stdout",
     "output_type": "stream",
     "text": [
      "chr_name='chr8' num_chunks=45 count_N=0\n"
     ]
    },
    {
     "name": "stderr",
     "output_type": "stream",
     "text": [
      "\r",
      " 96%|████████████████████████████████████████▏ | 22/23 [57:12<02:52, 172.39s/it]"
     ]
    },
    {
     "name": "stdout",
     "output_type": "stream",
     "text": [
      "chr_name='chr9' num_chunks=71 count_N=29\n"
     ]
    },
    {
     "name": "stderr",
     "output_type": "stream",
     "text": [
      "100%|████████████████████████████████████████| 23/23 [1:00:37<00:00, 158.17s/it]"
     ]
    },
    {
     "name": "stdout",
     "output_type": "stream",
     "text": [
      "chr_name='chrX' num_chunks=50 count_N=0\n"
     ]
    },
    {
     "name": "stderr",
     "output_type": "stream",
     "text": [
      "\n"
     ]
    }
   ],
   "source": [
    "chunk_size = int(5e5)\n",
    "chunk_indicies = []\n",
    "for chr_name in tqdm(seqs.keys()):\n",
    "    count_N = 0\n",
    "    offset_mapping = tokenizer(str(seqs[chr_name][:]), add_special_tokens=False, return_offsets_mapping=True).offset_mapping\n",
    "    num_chunks = (len(offset_mapping) + chunk_size - 1) // chunk_size\n",
    "    for i in range(num_chunks):\n",
    "        start_idx = offset_mapping[i * chunk_size][0]\n",
    "        end_idx = offset_mapping[min((i+1) * chunk_size, len(offset_mapping)) - 1][1]\n",
    "        seq = str(seqs[chr_name][start_idx:end_idx])\n",
    "        if seq.count(\"N\") == len(seq):\n",
    "            count_N += 1\n",
    "        else:\n",
    "            chunk_indicies.append((chr_name, start_idx, end_idx))\n",
    "    print(f\"{chr_name=}\", f\"{num_chunks=}\", f\"{count_N=}\")"
   ]
  },
  {
   "cell_type": "code",
   "execution_count": 9,
   "id": "50825189",
   "metadata": {},
   "outputs": [
    {
     "data": {
      "text/plain": [
       "927"
      ]
     },
     "execution_count": 9,
     "metadata": {},
     "output_type": "execute_result"
    }
   ],
   "source": [
    "len(chunk_indicies)"
   ]
  },
  {
   "cell_type": "code",
   "execution_count": 10,
   "id": "30354b2a",
   "metadata": {},
   "outputs": [],
   "source": [
    "all_Ns_count = 0\n",
    "for chunk in chunk_indicies:\n",
    "    chr_name, start, end = chunk\n",
    "    seq = str(seqs[chr_name][start:end])\n",
    "    if seq.count(\"N\") == len(seq):\n",
    "        all_Ns_count += 1\n",
    "assert all_Ns_count == 0"
   ]
  },
  {
   "cell_type": "code",
   "execution_count": 11,
   "id": "e1da006f",
   "metadata": {},
   "outputs": [
    {
     "data": {
      "text/plain": [
       "{'chr1': 73,\n",
       " 'chr10': 42,\n",
       " 'chr11': 43,\n",
       " 'chr12': 41,\n",
       " 'chr13': 31,\n",
       " 'chr14': 29,\n",
       " 'chr15': 27,\n",
       " 'chr16': 27,\n",
       " 'chr17': 26,\n",
       " 'chr18': 25,\n",
       " 'chr19': 18,\n",
       " 'chr2': 76,\n",
       " 'chr20': 21,\n",
       " 'chr21': 16,\n",
       " 'chr22': 15,\n",
       " 'chr3': 61,\n",
       " 'chr4': 59,\n",
       " 'chr5': 56,\n",
       " 'chr6': 54,\n",
       " 'chr7': 50,\n",
       " 'chr8': 45,\n",
       " 'chr9': 42,\n",
       " 'chrX': 50}"
      ]
     },
     "execution_count": 11,
     "metadata": {},
     "output_type": "execute_result"
    }
   ],
   "source": [
    "count_per_chr = {}\n",
    "for chunk in chunk_indicies:\n",
    "    chr_name = chunk[0]\n",
    "    count_per_chr[chr_name] = count_per_chr.get(chr_name, 0) + 1\n",
    "count_per_chr = dict(sorted(count_per_chr.items()))\n",
    "count_per_chr"
   ]
  },
  {
   "cell_type": "code",
   "execution_count": 12,
   "id": "23b8b166",
   "metadata": {},
   "outputs": [
    {
     "data": {
      "image/png": "[encoded data removed]",
      "text/plain": [
       "<Figure size 432x288 with 1 Axes>"
      ]
     },
     "metadata": {
      "needs_background": "light"
     },
     "output_type": "display_data"
    }
   ],
   "source": [
    "plt.bar(count_per_chr.keys(), count_per_chr.values())\n",
    "plt.xticks(rotation=90)\n",
    "plt.ylabel(\"Count\")\n",
    "plt.show()"
   ]
  },
  {
   "cell_type": "code",
   "execution_count": 13,
   "id": "635e66d0",
   "metadata": {},
   "outputs": [],
   "source": [
    "import random\n",
    "random.seed(2222)\n",
    "random.shuffle(chunk_indicies)\n",
    "\n",
    "total_size = len(chunk_indicies)\n",
    "train_end = int(0.8 * total_size)\n",
    "val_end = train_end + int(0.1 * total_size)\n",
    "\n",
    "for i, chunk in enumerate(chunk_indicies):\n",
    "    if i < train_end:\n",
    "        split = \"train\"\n",
    "    elif i < val_end:\n",
    "        split = \"valid\"\n",
    "    else:\n",
    "        split = \"test\"\n",
    "    chunk_indicies[i] = (*chunk, split)"
   ]
  },
  {
   "cell_type": "code",
   "execution_count": 14,
   "id": "39b8abd4",
   "metadata": {},
   "outputs": [],
   "source": [
    "with open(\"/scratch/kyle/hyena-dna/data/hg38/sequences_500k.bed\", \"w\") as f:\n",
    "    for chunk in chunk_indicies:\n",
    "        chr_name, start, end, split = chunk\n",
    "        f.write(f\"{chr_name}\\t{start}\\t{end}\\t{split}\\n\")"
   ]
  },
  {
   "cell_type": "code",
   "execution_count": 15,
   "id": "5196c333",
   "metadata": {},
   "outputs": [],
   "source": [
    "for chunk in chunk_indicies:\n",
    "    chr_name, start, end, split = chunk\n",
    "    seq = str(seqs[chr_name][start:end])\n",
    "    assert seq.count(\"N\") != len(seq)"
   ]
  }
 ],
 "metadata": {
  "kernelspec": {
   "display_name": "Python 3 (ipykernel)",
   "language": "python",
   "name": "python3"
  },
  "language_info": {
   "codemirror_mode": {
    "name": "ipython",
    "version": 3
   },
   "file_extension": ".py",
   "mimetype": "text/x-python",
   "name": "python",
   "nbconvert_exporter": "python",
   "pygments_lexer": "ipython3",
   "version": "3.8.13"
  }
 },
 "nbformat": 4,
 "nbformat_minor": 5
}
